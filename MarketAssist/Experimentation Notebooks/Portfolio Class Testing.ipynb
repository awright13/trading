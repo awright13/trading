{
 "cells": [
  {
   "cell_type": "code",
   "execution_count": 98,
   "metadata": {
    "collapsed": true
   },
   "outputs": [],
   "source": [
    "import datetime\n",
    "import pandas as pd\n",
    "import quandl\n",
    "quandl.ApiConfig.api_key = \"Npr_WVEspvDGSfRd9Dt_\""
   ]
  },
  {
   "cell_type": "code",
   "execution_count": 48,
   "metadata": {
    "collapsed": true
   },
   "outputs": [],
   "source": [
    "data_rows = [('AAPL', 1,datetime.date(2010,1,1),500,None,None,None,None,None,None,None),\n",
    "             ('M',1,datetime.date(2018,1,25),1000,datetime.date(2018,1,29),2000,None,None,None,None,None)]\n",
    "marketData = [('AAPL',datetime.date(2018,1,30),500,600,450,650)\n",
    "             ,('M',datetime.date(2018,1,30),510,620,400,690)\n",
    "             ]\n",
    "marketData = pd.DataFrame(marketData,columns = ['Symbol',\n",
    "                                                'Date',\n",
    "                                                'Open',\n",
    "                                                'Close'\n",
    "                                                ,'High'\n",
    "                                                ,'Low']).astype({'Symbol':object,\n",
    "                                                                 'Date': datetime.date\n",
    "                                                                 ,'Open':'float64'\n",
    "                                                                 ,'Close':'float64'\n",
    "                                                                 ,'High':'float64'\n",
    "                                                                 ,'Low':'float64'})"
   ]
  },
  {
   "cell_type": "code",
   "execution_count": 93,
   "metadata": {},
   "outputs": [],
   "source": [
    "class Portfolio:\n",
    "    '''Creates a portfolio linked to a given market.  If no parameters are passed, the Portfolio is empty and\n",
    "    no market is associated with the Portfolio.  \n",
    "    Alternatively, you can pass into the data parameters a pre-existing Portfolio in .csv format, as well connect\n",
    "    to the Quandl API to pull in the desired market data.\n",
    "    '''\n",
    "    \n",
    "    def __init__(self, data = pd.DataFrame(), marketData = pd.DataFrame()):\n",
    "        \n",
    "        self.Portfolio = pd.DataFrame(data, columns = ['Symbol',\n",
    "                                                       'Quantity',\n",
    "                                                       'BuyDate',\n",
    "                                                       'BuyPrice',\n",
    "                                                       'SellDate',\n",
    "                                                       'SellPrice',\n",
    "                                                       'CurrentPrice',\n",
    "                                                       'CurrentReturn',\n",
    "                                                       'CurrentPctReturn',\n",
    "                                                       'TotalReturn',\n",
    "                                                       'TotalPctReturn']).astype({'Symbol':object,\n",
    "                                                                                  'Quantity':int,\n",
    "                                                                          'BuyDate':datetime.date,\n",
    "                                                                          'BuyPrice':'float64',\n",
    "                                                                          'SellDate':datetime.date,\n",
    "                                                                          'SellPrice':'float64',\n",
    "                                                                          'CurrentPrice':'float64',\n",
    "                                                                          'CurrentReturn':'float64',\n",
    "                                                                          'CurrentPctReturn':'float64',\n",
    "                                                                          'TotalReturn':'float64',\n",
    "                                                                          'TotalPctReturn':'float64'})\n",
    "        \n",
    "    \n",
    "        self.yesterday = datetime.datetime.now().date() + datetime.timedelta(days  =-1)\n",
    "        self.Assets = self.Portfolio.Symbol.values\n",
    "        self.marketData = marketData\n",
    "        self.openPositions = self.Portfolio[self.Portfolio['SellDate'].isnull()]\n",
    "        \n",
    "        for i in range(self.Portfolio.shape[0]):\n",
    "            \n",
    "            \n",
    "            \n",
    "            currentPrice = (self.marketData[(self.marketData['Symbol'] == self.Portfolio.loc[i,'Symbol']) \n",
    "                                            & (self.marketData['Date'] == self.yesterday)].loc[:,'Close'])\n",
    "            \n",
    "            update_df = pd.DataFrame({'CurrentReturn': currentPrice - self.Portfolio.loc[i,'BuyPrice']\n",
    "                                     ,'CurrentPctReturn': ((currentPrice/self.Portfolio.loc[i,'BuyPrice']) - 1) * 100\n",
    "                                     ,'TotalReturn': self.Portfolio.loc[i,'SellPrice'] - self.Portfolio.loc[i,'BuyPrice']\n",
    "                                     ,'TotalPctReturn': ((self.Portfolio.loc[i,'SellPrice']/self.Portfolio.loc[i,'BuyPrice']) - 1)*100}\n",
    "                                     , index = [i])     \n",
    "            \n",
    "            self.Portfolio.update(update_df)\n",
    "            \n",
    "         \n",
    "        \n",
    "        \n",
    "    def buy(self,\n",
    "            symbol,\n",
    "            quantity = 1,\n",
    "            buyDate =  datetime.datetime.now().date() + datetime.timedelta(days  =-1),\n",
    "            sellDate = datetime.date(2050,1,1) ):\n",
    "\n",
    "        \n",
    "        \n",
    "        a_quantity = quantity\n",
    "        a_BuyDate = buyDate\n",
    "        a_BuyPrice =  self.marketData[(self.marketData['Symbol'] == symbol) & (self.marketData['Date'] == buyDate)].loc[0,'Close']\n",
    "        a_SellDate = sellDate\n",
    "        a_SellPrice = None\n",
    "        a_CurrentReturn = 0\n",
    "        a_CurrentPctReturn = 0\n",
    "        a_TotalReturn = 0\n",
    "        a_TotalPctReturn = 0\n",
    "        \n",
    "        self.Portfolio = self.Portfolio.append({'Symbol':symbol,\n",
    "                                                'Quantity':a_quantity,\n",
    "                                               'BuyDate':a_BuyDate,\n",
    "                                               'BuyPrice':a_BuyPrice,\n",
    "                                               'SellDate':a_SellDate,\n",
    "                                               'SellPrice':a_SellPrice,\n",
    "                                               'CurrentPrice':a_BuyPrice,\n",
    "                                               'CurrentReturn':a_CurrentReturn,\n",
    "                                               'CurrentPctReturn':a_CurrentPctReturn,\n",
    "                                               'TotalReturn':a_TotalReturn,\n",
    "                                               'TotalPctReturn':a_TotalPctReturn},\n",
    "                                               ignore_index=True)\n",
    "        \n",
    "\n",
    "    def sell(self,\n",
    "            symbol,\n",
    "            buyDate,\n",
    "            quantity = 1,\n",
    "            sellDate = datetime.datetime.now().date() + datetime.timedelta(days  =-1)):\n",
    "\n",
    "        asset_index = self.Portfolio[(self.Portfolio['Symbol'] == symbol) & (self.Portfolio['BuyDate'] == buyDate)].index[0]\n",
    "        sellPrice = self.marketData[(self.marketData['Symbol'] == symbol) & (self.marketData['Date'] == sellDate)].loc[0,'Close']\n",
    "\n",
    "        sell_df = pd.DataFrame({'SellDate':sellDate\n",
    "                                , 'SellPrice':sellPrice\n",
    "                                , 'CurrentPrice':sellPrice\n",
    "                                ,'CurrentReturn': sellPrice - self.Portfolio.loc[asset_index,'BuyPrice']\n",
    "                                ,'CurrentPctReturn': ((sellPrice/self.Portfolio.loc[asset_index,'BuyPrice']) - 1) * 100\n",
    "                                ,'TotalReturn': sellPrice - self.Portfolio.loc[asset_index,'BuyPrice']\n",
    "                                ,'TotalPctReturn': ((sellPrice/self.Portfolio.loc[asset_index,'BuyPrice']) - 1)*100}\n",
    "                                , index = [asset_index])\n",
    "        \n",
    "        self.Portfolio.update(sell_df)"
   ]
  },
  {
   "cell_type": "code",
   "execution_count": 94,
   "metadata": {
    "collapsed": true,
    "scrolled": true
   },
   "outputs": [],
   "source": [
    "M = Portfolio(data=data_rows, marketData = marketData)"
   ]
  },
  {
   "cell_type": "code",
   "execution_count": 95,
   "metadata": {},
   "outputs": [],
   "source": [
    "M.buy('AAPL')"
   ]
  },
  {
   "cell_type": "code",
   "execution_count": 96,
   "metadata": {},
   "outputs": [],
   "source": [
    "M.sell('AAPL',buyDate = datetime.date(2010,1,1))"
   ]
  },
  {
   "cell_type": "code",
   "execution_count": 97,
   "metadata": {},
   "outputs": [
    {
     "data": {
      "text/html": [
       "<div>\n",
       "<style>\n",
       "    .dataframe thead tr:only-child th {\n",
       "        text-align: right;\n",
       "    }\n",
       "\n",
       "    .dataframe thead th {\n",
       "        text-align: left;\n",
       "    }\n",
       "\n",
       "    .dataframe tbody tr th {\n",
       "        vertical-align: top;\n",
       "    }\n",
       "</style>\n",
       "<table border=\"1\" class=\"dataframe\">\n",
       "  <thead>\n",
       "    <tr style=\"text-align: right;\">\n",
       "      <th></th>\n",
       "      <th>Symbol</th>\n",
       "      <th>Quantity</th>\n",
       "      <th>BuyDate</th>\n",
       "      <th>BuyPrice</th>\n",
       "      <th>SellDate</th>\n",
       "      <th>SellPrice</th>\n",
       "      <th>CurrentPrice</th>\n",
       "      <th>CurrentReturn</th>\n",
       "      <th>CurrentPctReturn</th>\n",
       "      <th>TotalReturn</th>\n",
       "      <th>TotalPctReturn</th>\n",
       "    </tr>\n",
       "  </thead>\n",
       "  <tbody>\n",
       "    <tr>\n",
       "      <th>0</th>\n",
       "      <td>AAPL</td>\n",
       "      <td>1</td>\n",
       "      <td>2010-01-01</td>\n",
       "      <td>500.0</td>\n",
       "      <td>2018-01-30</td>\n",
       "      <td>600</td>\n",
       "      <td>600.0</td>\n",
       "      <td>100.0</td>\n",
       "      <td>20.0</td>\n",
       "      <td>100.0</td>\n",
       "      <td>20.0</td>\n",
       "    </tr>\n",
       "    <tr>\n",
       "      <th>1</th>\n",
       "      <td>M</td>\n",
       "      <td>1</td>\n",
       "      <td>2018-01-25</td>\n",
       "      <td>1000.0</td>\n",
       "      <td>2018-01-29</td>\n",
       "      <td>2000</td>\n",
       "      <td>NaN</td>\n",
       "      <td>-380.0</td>\n",
       "      <td>-38.0</td>\n",
       "      <td>1000.0</td>\n",
       "      <td>100.0</td>\n",
       "    </tr>\n",
       "    <tr>\n",
       "      <th>2</th>\n",
       "      <td>AAPL</td>\n",
       "      <td>1</td>\n",
       "      <td>2018-01-30</td>\n",
       "      <td>600.0</td>\n",
       "      <td>2050-01-01</td>\n",
       "      <td>None</td>\n",
       "      <td>600.0</td>\n",
       "      <td>0.0</td>\n",
       "      <td>0.0</td>\n",
       "      <td>0.0</td>\n",
       "      <td>0.0</td>\n",
       "    </tr>\n",
       "  </tbody>\n",
       "</table>\n",
       "</div>"
      ],
      "text/plain": [
       "  Symbol  Quantity     BuyDate  BuyPrice    SellDate SellPrice  CurrentPrice  \\\n",
       "0   AAPL         1  2010-01-01     500.0  2018-01-30       600         600.0   \n",
       "1      M         1  2018-01-25    1000.0  2018-01-29      2000           NaN   \n",
       "2   AAPL         1  2018-01-30     600.0  2050-01-01      None         600.0   \n",
       "\n",
       "   CurrentReturn  CurrentPctReturn  TotalReturn  TotalPctReturn  \n",
       "0          100.0              20.0        100.0            20.0  \n",
       "1         -380.0             -38.0       1000.0           100.0  \n",
       "2            0.0               0.0          0.0             0.0  "
      ]
     },
     "execution_count": 97,
     "metadata": {},
     "output_type": "execute_result"
    }
   ],
   "source": [
    "M.Portfolio"
   ]
  },
  {
   "cell_type": "code",
   "execution_count": 118,
   "metadata": {},
   "outputs": [
    {
     "data": {
      "text/html": [
       "<div>\n",
       "<style>\n",
       "    .dataframe thead tr:only-child th {\n",
       "        text-align: right;\n",
       "    }\n",
       "\n",
       "    .dataframe thead th {\n",
       "        text-align: left;\n",
       "    }\n",
       "\n",
       "    .dataframe tbody tr th {\n",
       "        vertical-align: top;\n",
       "    }\n",
       "</style>\n",
       "<table border=\"1\" class=\"dataframe\">\n",
       "  <thead>\n",
       "    <tr style=\"text-align: right;\">\n",
       "      <th></th>\n",
       "      <th>Symbol</th>\n",
       "      <th>BuyDate</th>\n",
       "      <th>BuyPrice</th>\n",
       "      <th>SellDate</th>\n",
       "      <th>SellPrice</th>\n",
       "      <th>CurrentPrice</th>\n",
       "      <th>CurrentReturn</th>\n",
       "      <th>CurrentPctReturn</th>\n",
       "      <th>TotalReturn</th>\n",
       "      <th>TotalPctReturn</th>\n",
       "    </tr>\n",
       "  </thead>\n",
       "  <tbody>\n",
       "    <tr>\n",
       "      <th>0</th>\n",
       "      <td>AAPL</td>\n",
       "      <td>2010-01-01</td>\n",
       "      <td>500.0</td>\n",
       "      <td>None</td>\n",
       "      <td>NaN</td>\n",
       "      <td>NaN</td>\n",
       "      <td>NaN</td>\n",
       "      <td>NaN</td>\n",
       "      <td>NaN</td>\n",
       "      <td>NaN</td>\n",
       "    </tr>\n",
       "  </tbody>\n",
       "</table>\n",
       "</div>"
      ],
      "text/plain": [
       "  Symbol     BuyDate  BuyPrice SellDate  SellPrice  CurrentPrice  \\\n",
       "0   AAPL  2010-01-01     500.0     None        NaN           NaN   \n",
       "\n",
       "   CurrentReturn  CurrentPctReturn  TotalReturn  TotalPctReturn  \n",
       "0            NaN               NaN          NaN             NaN  "
      ]
     },
     "execution_count": 118,
     "metadata": {},
     "output_type": "execute_result"
    }
   ],
   "source": [
    "M.Portfolio[M.Portfolio['SellDate'].isnull()]"
   ]
  },
  {
   "cell_type": "code",
   "execution_count": 26,
   "metadata": {
    "collapsed": true
   },
   "outputs": [],
   "source": [
    "myP1.Portfolio.loc[0,'CurrentReturn'] = 2000"
   ]
  },
  {
   "cell_type": "code",
   "execution_count": 28,
   "metadata": {},
   "outputs": [
    {
     "data": {
      "text/plain": [
       "2000.0"
      ]
     },
     "execution_count": 28,
     "metadata": {},
     "output_type": "execute_result"
    }
   ],
   "source": [
    "myP1.Portfolio.loc[0,'CurrentReturn']"
   ]
  },
  {
   "cell_type": "code",
   "execution_count": 59,
   "metadata": {
    "collapsed": true
   },
   "outputs": [],
   "source": [
    "val = pd.DataFrame({'Low':600}, index=[1])"
   ]
  },
  {
   "cell_type": "code",
   "execution_count": 60,
   "metadata": {},
   "outputs": [
    {
     "data": {
      "text/html": [
       "<div>\n",
       "<style>\n",
       "    .dataframe thead tr:only-child th {\n",
       "        text-align: right;\n",
       "    }\n",
       "\n",
       "    .dataframe thead th {\n",
       "        text-align: left;\n",
       "    }\n",
       "\n",
       "    .dataframe tbody tr th {\n",
       "        vertical-align: top;\n",
       "    }\n",
       "</style>\n",
       "<table border=\"1\" class=\"dataframe\">\n",
       "  <thead>\n",
       "    <tr style=\"text-align: right;\">\n",
       "      <th></th>\n",
       "      <th>Symbol</th>\n",
       "      <th>Date</th>\n",
       "      <th>Open</th>\n",
       "      <th>Close</th>\n",
       "      <th>High</th>\n",
       "      <th>Low</th>\n",
       "    </tr>\n",
       "  </thead>\n",
       "  <tbody>\n",
       "    <tr>\n",
       "      <th>0</th>\n",
       "      <td>AAPL</td>\n",
       "      <td>2018-01-30</td>\n",
       "      <td>500.0</td>\n",
       "      <td>600.0</td>\n",
       "      <td>450.0</td>\n",
       "      <td>650.0</td>\n",
       "    </tr>\n",
       "    <tr>\n",
       "      <th>1</th>\n",
       "      <td>GNC</td>\n",
       "      <td>2018-01-30</td>\n",
       "      <td>510.0</td>\n",
       "      <td>620.0</td>\n",
       "      <td>400.0</td>\n",
       "      <td>690.0</td>\n",
       "    </tr>\n",
       "  </tbody>\n",
       "</table>\n",
       "</div>"
      ],
      "text/plain": [
       "  Symbol        Date   Open  Close   High    Low\n",
       "0   AAPL  2018-01-30  500.0  600.0  450.0  650.0\n",
       "1    GNC  2018-01-30  510.0  620.0  400.0  690.0"
      ]
     },
     "execution_count": 60,
     "metadata": {},
     "output_type": "execute_result"
    }
   ],
   "source": [
    "myP1.marketData"
   ]
  },
  {
   "cell_type": "code",
   "execution_count": 61,
   "metadata": {
    "collapsed": true
   },
   "outputs": [],
   "source": [
    "myP1.marketData.update(val)"
   ]
  },
  {
   "cell_type": "code",
   "execution_count": 62,
   "metadata": {},
   "outputs": [
    {
     "data": {
      "text/html": [
       "<div>\n",
       "<style>\n",
       "    .dataframe thead tr:only-child th {\n",
       "        text-align: right;\n",
       "    }\n",
       "\n",
       "    .dataframe thead th {\n",
       "        text-align: left;\n",
       "    }\n",
       "\n",
       "    .dataframe tbody tr th {\n",
       "        vertical-align: top;\n",
       "    }\n",
       "</style>\n",
       "<table border=\"1\" class=\"dataframe\">\n",
       "  <thead>\n",
       "    <tr style=\"text-align: right;\">\n",
       "      <th></th>\n",
       "      <th>Symbol</th>\n",
       "      <th>Date</th>\n",
       "      <th>Open</th>\n",
       "      <th>Close</th>\n",
       "      <th>High</th>\n",
       "      <th>Low</th>\n",
       "    </tr>\n",
       "  </thead>\n",
       "  <tbody>\n",
       "    <tr>\n",
       "      <th>0</th>\n",
       "      <td>AAPL</td>\n",
       "      <td>2018-01-30</td>\n",
       "      <td>500.0</td>\n",
       "      <td>600.0</td>\n",
       "      <td>450.0</td>\n",
       "      <td>650.0</td>\n",
       "    </tr>\n",
       "    <tr>\n",
       "      <th>1</th>\n",
       "      <td>GNC</td>\n",
       "      <td>2018-01-30</td>\n",
       "      <td>510.0</td>\n",
       "      <td>620.0</td>\n",
       "      <td>400.0</td>\n",
       "      <td>600.0</td>\n",
       "    </tr>\n",
       "  </tbody>\n",
       "</table>\n",
       "</div>"
      ],
      "text/plain": [
       "  Symbol        Date   Open  Close   High    Low\n",
       "0   AAPL  2018-01-30  500.0  600.0  450.0  650.0\n",
       "1    GNC  2018-01-30  510.0  620.0  400.0  600.0"
      ]
     },
     "execution_count": 62,
     "metadata": {},
     "output_type": "execute_result"
    }
   ],
   "source": [
    "myP1.marketData"
   ]
  },
  {
   "cell_type": "code",
   "execution_count": 46,
   "metadata": {},
   "outputs": [
    {
     "data": {
      "text/plain": [
       "0    600.0\n",
       "Name: Close, dtype: float64"
      ]
     },
     "execution_count": 46,
     "metadata": {},
     "output_type": "execute_result"
    }
   ],
   "source": [
    "myP1.marketData[(myP1.marketData.Symbol == 'AAPL') & (myP1.marketData.Date == myP1.Yesterday) ].loc[:,'Close']"
   ]
  },
  {
   "cell_type": "code",
   "execution_count": 31,
   "metadata": {},
   "outputs": [
    {
     "ename": "NameError",
     "evalue": "name 'portfolioInfo' is not defined",
     "output_type": "error",
     "traceback": [
      "\u001b[1;31m---------------------------------------------------------------------------\u001b[0m",
      "\u001b[1;31mNameError\u001b[0m                                 Traceback (most recent call last)",
      "\u001b[1;32m<ipython-input-31-cd15987d0bcf>\u001b[0m in \u001b[0;36m<module>\u001b[1;34m()\u001b[0m\n\u001b[1;32m----> 1\u001b[1;33m \u001b[0mmyP1\u001b[0m \u001b[1;33m=\u001b[0m \u001b[0mPortfolio\u001b[0m\u001b[1;33m(\u001b[0m\u001b[0mdata\u001b[0m\u001b[1;33m=\u001b[0m\u001b[0mdata_rows\u001b[0m\u001b[1;33m,\u001b[0m \u001b[0mmarketData\u001b[0m \u001b[1;33m=\u001b[0m \u001b[0mmarketData\u001b[0m\u001b[1;33m)\u001b[0m\u001b[1;33m\u001b[0m\u001b[0m\n\u001b[0m",
      "\u001b[1;32m<ipython-input-30-8c3d615fba50>\u001b[0m in \u001b[0;36m__init__\u001b[1;34m(self, data, marketData)\u001b[0m\n\u001b[0;32m     45\u001b[0m \u001b[1;33m\u001b[0m\u001b[0m\n\u001b[0;32m     46\u001b[0m \u001b[1;33m\u001b[0m\u001b[0m\n\u001b[1;32m---> 47\u001b[1;33m             \u001b[0mself\u001b[0m\u001b[1;33m.\u001b[0m\u001b[0mPortfolio\u001b[0m\u001b[1;33m.\u001b[0m\u001b[0mloc\u001b[0m\u001b[1;33m[\u001b[0m\u001b[0mi\u001b[0m\u001b[1;33m,\u001b[0m\u001b[1;34m'CurrentReturn'\u001b[0m\u001b[1;33m]\u001b[0m \u001b[1;33m=\u001b[0m \u001b[0mcurrentPrice\u001b[0m \u001b[1;33m-\u001b[0m \u001b[0mportfolioInfo\u001b[0m\u001b[1;33m[\u001b[0m\u001b[1;34m'BuyPrice'\u001b[0m\u001b[1;33m]\u001b[0m\u001b[1;33m\u001b[0m\u001b[0m\n\u001b[0m\u001b[0;32m     48\u001b[0m             \u001b[0mself\u001b[0m\u001b[1;33m.\u001b[0m\u001b[0mPortfolio\u001b[0m\u001b[1;33m.\u001b[0m\u001b[0mloc\u001b[0m\u001b[1;33m[\u001b[0m\u001b[0mi\u001b[0m\u001b[1;33m,\u001b[0m\u001b[1;34m'CurrentPctReturn'\u001b[0m\u001b[1;33m]\u001b[0m \u001b[1;33m=\u001b[0m  \u001b[1;33m(\u001b[0m\u001b[0mcurrentPrice\u001b[0m \u001b[1;33m/\u001b[0m \u001b[0mportfolioInfo\u001b[0m\u001b[1;33m[\u001b[0m\u001b[1;34m'BuyPrice'\u001b[0m\u001b[1;33m]\u001b[0m \u001b[1;33m-\u001b[0m \u001b[1;36m1\u001b[0m\u001b[1;33m)\u001b[0m \u001b[1;33m*\u001b[0m \u001b[1;36m100\u001b[0m\u001b[1;33m\u001b[0m\u001b[0m\n\u001b[0;32m     49\u001b[0m             \u001b[0mself\u001b[0m\u001b[1;33m.\u001b[0m\u001b[0mPortfolio\u001b[0m\u001b[1;33m.\u001b[0m\u001b[0mloc\u001b[0m\u001b[1;33m[\u001b[0m\u001b[0mi\u001b[0m\u001b[1;33m,\u001b[0m\u001b[1;34m'TotalReturn'\u001b[0m\u001b[1;33m]\u001b[0m \u001b[1;33m=\u001b[0m \u001b[0mportfolioInfo\u001b[0m\u001b[1;33m[\u001b[0m\u001b[1;34m'SellPrice'\u001b[0m\u001b[1;33m]\u001b[0m \u001b[1;33m-\u001b[0m \u001b[0mportfolioInfo\u001b[0m\u001b[1;33m[\u001b[0m\u001b[1;34m'BuyPrice'\u001b[0m\u001b[1;33m]\u001b[0m\u001b[1;33m\u001b[0m\u001b[0m\n",
      "\u001b[1;31mNameError\u001b[0m: name 'portfolioInfo' is not defined"
     ]
    }
   ],
   "source": [
    "myP1 = Portfolio(data=data_rows, marketData = marketData)"
   ]
  },
  {
   "cell_type": "code",
   "execution_count": 398,
   "metadata": {},
   "outputs": [
    {
     "data": {
      "text/plain": [
       "500.0"
      ]
     },
     "execution_count": 398,
     "metadata": {},
     "output_type": "execute_result"
    }
   ],
   "source": [
    "myP.Portfolio.iloc[0]['BuyPrice']"
   ]
  },
  {
   "cell_type": "code",
   "execution_count": null,
   "metadata": {
    "collapsed": true
   },
   "outputs": [],
   "source": []
  },
  {
   "cell_type": "code",
   "execution_count": 333,
   "metadata": {},
   "outputs": [
    {
     "data": {
      "text/plain": [
       "0    100.0\n",
       "1    800.0\n",
       "Name: BuyPrice, dtype: float64"
      ]
     },
     "execution_count": 333,
     "metadata": {},
     "output_type": "execute_result"
    }
   ],
   "source": [
    "p['BuyPrice'] "
   ]
  },
  {
   "cell_type": "code",
   "execution_count": 357,
   "metadata": {},
   "outputs": [
    {
     "data": {
      "text/plain": [
       "'AAPL'"
      ]
     },
     "execution_count": 357,
     "metadata": {},
     "output_type": "execute_result"
    }
   ],
   "source": [
    "myP.Portfolio.iloc[0]['Symbol']"
   ]
  },
  {
   "cell_type": "code",
   "execution_count": 362,
   "metadata": {
    "collapsed": true
   },
   "outputs": [],
   "source": [
    "marketInfo = myP.marketData[(myP.marketData['Symbol'] == 'AAPL') & (myP.marketData['Date'] == myP.Yesterday) ]"
   ]
  },
  {
   "cell_type": "code",
   "execution_count": 364,
   "metadata": {},
   "outputs": [
    {
     "data": {
      "text/plain": [
       "array([ 600.])"
      ]
     },
     "execution_count": 364,
     "metadata": {},
     "output_type": "execute_result"
    }
   ],
   "source": [
    "marketInfo['Close'].values"
   ]
  },
  {
   "cell_type": "code",
   "execution_count": 371,
   "metadata": {},
   "outputs": [
    {
     "data": {
      "text/html": [
       "<div>\n",
       "<style>\n",
       "    .dataframe thead tr:only-child th {\n",
       "        text-align: right;\n",
       "    }\n",
       "\n",
       "    .dataframe thead th {\n",
       "        text-align: left;\n",
       "    }\n",
       "\n",
       "    .dataframe tbody tr th {\n",
       "        vertical-align: top;\n",
       "    }\n",
       "</style>\n",
       "<table border=\"1\" class=\"dataframe\">\n",
       "  <thead>\n",
       "    <tr style=\"text-align: right;\">\n",
       "      <th></th>\n",
       "      <th>Symbol</th>\n",
       "      <th>BuyDate</th>\n",
       "      <th>BuyPrice</th>\n",
       "      <th>SellDate</th>\n",
       "      <th>SellPrice</th>\n",
       "      <th>CurrentPrice</th>\n",
       "      <th>CurrentReturn</th>\n",
       "      <th>CurrentPctReturn</th>\n",
       "      <th>TotalReturn</th>\n",
       "      <th>TotalPctReturn</th>\n",
       "    </tr>\n",
       "  </thead>\n",
       "  <tbody>\n",
       "    <tr>\n",
       "      <th>1</th>\n",
       "      <td>M</td>\n",
       "      <td>2018-01-25</td>\n",
       "      <td>1000.0</td>\n",
       "      <td>2018-01-29</td>\n",
       "      <td>2000.0</td>\n",
       "      <td>NaN</td>\n",
       "      <td>-400.0</td>\n",
       "      <td>-40.0</td>\n",
       "      <td>1000.0</td>\n",
       "      <td>NaN</td>\n",
       "    </tr>\n",
       "  </tbody>\n",
       "</table>\n",
       "</div>"
      ],
      "text/plain": [
       "  Symbol     BuyDate  BuyPrice    SellDate  SellPrice  CurrentPrice  \\\n",
       "1      M  2018-01-25    1000.0  2018-01-29     2000.0           NaN   \n",
       "\n",
       "   CurrentReturn  CurrentPctReturn  TotalReturn  TotalPctReturn  \n",
       "1         -400.0             -40.0       1000.0             NaN  "
      ]
     },
     "execution_count": 371,
     "metadata": {},
     "output_type": "execute_result"
    }
   ],
   "source": [
    "myP.Portfolio[myP.Portfolio['SellDate'] == datetime.date(2018,1,29)]"
   ]
  },
  {
   "cell_type": "code",
   "execution_count": null,
   "metadata": {
    "collapsed": true
   },
   "outputs": [],
   "source": []
  },
  {
   "cell_type": "code",
   "execution_count": 360,
   "metadata": {},
   "outputs": [
    {
     "data": {
      "text/plain": [
       "datetime.date(2018, 1, 30)"
      ]
     },
     "execution_count": 360,
     "metadata": {},
     "output_type": "execute_result"
    }
   ],
   "source": [
    "myP.Yesterday"
   ]
  },
  {
   "cell_type": "code",
   "execution_count": null,
   "metadata": {
    "collapsed": true
   },
   "outputs": [],
   "source": [
    "myP = Portfolio(data"
   ]
  },
  {
   "cell_type": "code",
   "execution_count": 322,
   "metadata": {},
   "outputs": [
    {
     "data": {
      "text/plain": [
       "datetime.date(2018, 1, 31)"
      ]
     },
     "execution_count": 322,
     "metadata": {},
     "output_type": "execute_result"
    }
   ],
   "source": [
    "datetime.date(2018,1,31)"
   ]
  },
  {
   "cell_type": "code",
   "execution_count": 328,
   "metadata": {},
   "outputs": [
    {
     "ename": "NameError",
     "evalue": "name 'myP' is not defined",
     "output_type": "error",
     "traceback": [
      "\u001b[1;31m---------------------------------------------------------------------------\u001b[0m",
      "\u001b[1;31mNameError\u001b[0m                                 Traceback (most recent call last)",
      "\u001b[1;32m<ipython-input-328-0d51900e25bb>\u001b[0m in \u001b[0;36m<module>\u001b[1;34m()\u001b[0m\n\u001b[1;32m----> 1\u001b[1;33m \u001b[0mmyP\u001b[0m\u001b[1;33m\u001b[0m\u001b[0m\n\u001b[0m",
      "\u001b[1;31mNameError\u001b[0m: name 'myP' is not defined"
     ]
    }
   ],
   "source": []
  },
  {
   "cell_type": "code",
   "execution_count": 351,
   "metadata": {
    "collapsed": true
   },
   "outputs": [],
   "source": []
  },
  {
   "cell_type": "code",
   "execution_count": 352,
   "metadata": {
    "collapsed": true
   },
   "outputs": [],
   "source": [
    "myP = Portfolio(data = data_rows, marketData = marketData)"
   ]
  },
  {
   "cell_type": "code",
   "execution_count": 366,
   "metadata": {},
   "outputs": [
    {
     "data": {
      "text/html": [
       "<div>\n",
       "<style>\n",
       "    .dataframe thead tr:only-child th {\n",
       "        text-align: right;\n",
       "    }\n",
       "\n",
       "    .dataframe thead th {\n",
       "        text-align: left;\n",
       "    }\n",
       "\n",
       "    .dataframe tbody tr th {\n",
       "        vertical-align: top;\n",
       "    }\n",
       "</style>\n",
       "<table border=\"1\" class=\"dataframe\">\n",
       "  <thead>\n",
       "    <tr style=\"text-align: right;\">\n",
       "      <th></th>\n",
       "      <th>Symbol</th>\n",
       "      <th>BuyDate</th>\n",
       "      <th>BuyPrice</th>\n",
       "      <th>SellDate</th>\n",
       "      <th>SellPrice</th>\n",
       "      <th>CurrentPrice</th>\n",
       "      <th>CurrentReturn</th>\n",
       "      <th>CurrentPctReturn</th>\n",
       "      <th>TotalReturn</th>\n",
       "      <th>TotalPctReturn</th>\n",
       "    </tr>\n",
       "  </thead>\n",
       "  <tbody>\n",
       "    <tr>\n",
       "      <th>0</th>\n",
       "      <td>AAPL</td>\n",
       "      <td>2018-01-20</td>\n",
       "      <td>500.0</td>\n",
       "      <td>None</td>\n",
       "      <td>NaN</td>\n",
       "      <td>NaN</td>\n",
       "      <td>100.0</td>\n",
       "      <td>20.0</td>\n",
       "      <td>NaN</td>\n",
       "      <td>NaN</td>\n",
       "    </tr>\n",
       "    <tr>\n",
       "      <th>1</th>\n",
       "      <td>M</td>\n",
       "      <td>2018-01-25</td>\n",
       "      <td>1000.0</td>\n",
       "      <td>2018-01-29</td>\n",
       "      <td>2000.0</td>\n",
       "      <td>NaN</td>\n",
       "      <td>-400.0</td>\n",
       "      <td>-40.0</td>\n",
       "      <td>1000.0</td>\n",
       "      <td>NaN</td>\n",
       "    </tr>\n",
       "  </tbody>\n",
       "</table>\n",
       "</div>"
      ],
      "text/plain": [
       "  Symbol     BuyDate  BuyPrice    SellDate  SellPrice  CurrentPrice  \\\n",
       "0   AAPL  2018-01-20     500.0        None        NaN           NaN   \n",
       "1      M  2018-01-25    1000.0  2018-01-29     2000.0           NaN   \n",
       "\n",
       "   CurrentReturn  CurrentPctReturn  TotalReturn  TotalPctReturn  \n",
       "0          100.0              20.0          NaN             NaN  \n",
       "1         -400.0             -40.0       1000.0             NaN  "
      ]
     },
     "execution_count": 366,
     "metadata": {},
     "output_type": "execute_result"
    }
   ],
   "source": [
    "myP.Portfolio"
   ]
  },
  {
   "cell_type": "code",
   "execution_count": 342,
   "metadata": {},
   "outputs": [
    {
     "data": {
      "text/html": [
       "<div>\n",
       "<style>\n",
       "    .dataframe thead tr:only-child th {\n",
       "        text-align: right;\n",
       "    }\n",
       "\n",
       "    .dataframe thead th {\n",
       "        text-align: left;\n",
       "    }\n",
       "\n",
       "    .dataframe tbody tr th {\n",
       "        vertical-align: top;\n",
       "    }\n",
       "</style>\n",
       "<table border=\"1\" class=\"dataframe\">\n",
       "  <thead>\n",
       "    <tr style=\"text-align: right;\">\n",
       "      <th></th>\n",
       "      <th>Symbol</th>\n",
       "      <th>Date</th>\n",
       "      <th>Open</th>\n",
       "      <th>Close</th>\n",
       "      <th>High</th>\n",
       "      <th>Low</th>\n",
       "    </tr>\n",
       "  </thead>\n",
       "  <tbody>\n",
       "    <tr>\n",
       "      <th>0</th>\n",
       "      <td>AAPL</td>\n",
       "      <td>2018-01-30</td>\n",
       "      <td>500.0</td>\n",
       "      <td>600.0</td>\n",
       "      <td>450.0</td>\n",
       "      <td>650.0</td>\n",
       "    </tr>\n",
       "    <tr>\n",
       "      <th>1</th>\n",
       "      <td>GNC</td>\n",
       "      <td>2018-01-30</td>\n",
       "      <td>510.0</td>\n",
       "      <td>620.0</td>\n",
       "      <td>400.0</td>\n",
       "      <td>690.0</td>\n",
       "    </tr>\n",
       "  </tbody>\n",
       "</table>\n",
       "</div>"
      ],
      "text/plain": [
       "  Symbol        Date   Open  Close   High    Low\n",
       "0   AAPL  2018-01-30  500.0  600.0  450.0  650.0\n",
       "1    GNC  2018-01-30  510.0  620.0  400.0  690.0"
      ]
     },
     "execution_count": 342,
     "metadata": {},
     "output_type": "execute_result"
    }
   ],
   "source": [
    "myP.marketData"
   ]
  },
  {
   "cell_type": "code",
   "execution_count": null,
   "metadata": {
    "collapsed": true
   },
   "outputs": [],
   "source": []
  },
  {
   "cell_type": "code",
   "execution_count": null,
   "metadata": {
    "collapsed": true
   },
   "outputs": [],
   "source": []
  },
  {
   "cell_type": "code",
   "execution_count": null,
   "metadata": {
    "collapsed": true
   },
   "outputs": [],
   "source": [
    "c.Portfolio['SellDate'] = datetime.date()"
   ]
  },
  {
   "cell_type": "code",
   "execution_count": 284,
   "metadata": {},
   "outputs": [
    {
     "data": {
      "text/plain": [
       "False"
      ]
     },
     "execution_count": 284,
     "metadata": {},
     "output_type": "execute_result"
    }
   ],
   "source": [
    "c.Portfolio.loc[0]['SellDate'] < datetime.datetime.now()"
   ]
  },
  {
   "cell_type": "code",
   "execution_count": 265,
   "metadata": {},
   "outputs": [
    {
     "data": {
      "text/html": [
       "<div>\n",
       "<style>\n",
       "    .dataframe thead tr:only-child th {\n",
       "        text-align: right;\n",
       "    }\n",
       "\n",
       "    .dataframe thead th {\n",
       "        text-align: left;\n",
       "    }\n",
       "\n",
       "    .dataframe tbody tr th {\n",
       "        vertical-align: top;\n",
       "    }\n",
       "</style>\n",
       "<table border=\"1\" class=\"dataframe\">\n",
       "  <thead>\n",
       "    <tr style=\"text-align: right;\">\n",
       "      <th></th>\n",
       "      <th>Symbol</th>\n",
       "      <th>BuyDate</th>\n",
       "      <th>BuyPrice</th>\n",
       "      <th>SellDate</th>\n",
       "      <th>SellPrice</th>\n",
       "      <th>CurrentPrice</th>\n",
       "      <th>CurrentReturn</th>\n",
       "      <th>CurrentPctReturn</th>\n",
       "      <th>TotalReturn</th>\n",
       "      <th>TotalPctReturn</th>\n",
       "    </tr>\n",
       "  </thead>\n",
       "  <tbody>\n",
       "    <tr>\n",
       "      <th>0</th>\n",
       "      <td>AAPL</td>\n",
       "      <td>2013-10-28</td>\n",
       "      <td>500.0</td>\n",
       "      <td>NaT</td>\n",
       "      <td>1000.0</td>\n",
       "      <td>NaN</td>\n",
       "      <td>100.0</td>\n",
       "      <td>20.0</td>\n",
       "      <td>NaN</td>\n",
       "      <td>NaN</td>\n",
       "    </tr>\n",
       "  </tbody>\n",
       "</table>\n",
       "</div>"
      ],
      "text/plain": [
       "  Symbol    BuyDate  BuyPrice SellDate  SellPrice  CurrentPrice  \\\n",
       "0   AAPL 2013-10-28     500.0      NaT     1000.0           NaN   \n",
       "\n",
       "   CurrentReturn  CurrentPctReturn  TotalReturn  TotalPctReturn  \n",
       "0          100.0              20.0          NaN             NaN  "
      ]
     },
     "execution_count": 265,
     "metadata": {},
     "output_type": "execute_result"
    }
   ],
   "source": [
    "c.Portfolio[c.Portfolio['Symbol']=='AAPL']"
   ]
  },
  {
   "cell_type": "code",
   "execution_count": 233,
   "metadata": {},
   "outputs": [
    {
     "data": {
      "text/html": [
       "<div>\n",
       "<style>\n",
       "    .dataframe thead tr:only-child th {\n",
       "        text-align: right;\n",
       "    }\n",
       "\n",
       "    .dataframe thead th {\n",
       "        text-align: left;\n",
       "    }\n",
       "\n",
       "    .dataframe tbody tr th {\n",
       "        vertical-align: top;\n",
       "    }\n",
       "</style>\n",
       "<table border=\"1\" class=\"dataframe\">\n",
       "  <thead>\n",
       "    <tr style=\"text-align: right;\">\n",
       "      <th></th>\n",
       "      <th>Symbol</th>\n",
       "      <th>BuyDate</th>\n",
       "      <th>BuyPrice</th>\n",
       "      <th>SellDate</th>\n",
       "      <th>SellPrice</th>\n",
       "      <th>CurrentPrice</th>\n",
       "      <th>CurrentReturn</th>\n",
       "      <th>Return</th>\n",
       "    </tr>\n",
       "  </thead>\n",
       "  <tbody>\n",
       "    <tr>\n",
       "      <th>0</th>\n",
       "      <td>AAPL</td>\n",
       "      <td>2013-10-28 00:00:00</td>\n",
       "      <td>500.0</td>\n",
       "      <td>NaT</td>\n",
       "      <td>NaN</td>\n",
       "      <td>None</td>\n",
       "      <td>-440.0</td>\n",
       "      <td>NaN</td>\n",
       "    </tr>\n",
       "    <tr>\n",
       "      <th>1</th>\n",
       "      <td>M</td>\n",
       "      <td>2018-01-20 00:00:00</td>\n",
       "      <td>1000.0</td>\n",
       "      <td>2018-01-21 00:00:00</td>\n",
       "      <td>2000.0</td>\n",
       "      <td>None</td>\n",
       "      <td>-940.0</td>\n",
       "      <td>1000.0</td>\n",
       "    </tr>\n",
       "    <tr>\n",
       "      <th>2</th>\n",
       "      <td>AAPL</td>\n",
       "      <td>2018-01-29</td>\n",
       "      <td>60.0</td>\n",
       "      <td>2/20/2018</td>\n",
       "      <td>NaN</td>\n",
       "      <td>NaN</td>\n",
       "      <td>NaN</td>\n",
       "      <td>NaN</td>\n",
       "    </tr>\n",
       "  </tbody>\n",
       "</table>\n",
       "</div>"
      ],
      "text/plain": [
       "  Symbol              BuyDate  BuyPrice             SellDate  SellPrice  \\\n",
       "0   AAPL  2013-10-28 00:00:00     500.0                  NaT        NaN   \n",
       "1      M  2018-01-20 00:00:00    1000.0  2018-01-21 00:00:00     2000.0   \n",
       "2   AAPL           2018-01-29      60.0            2/20/2018        NaN   \n",
       "\n",
       "  CurrentPrice  CurrentReturn  Return  \n",
       "0         None         -440.0     NaN  \n",
       "1         None         -940.0  1000.0  \n",
       "2          NaN            NaN     NaN  "
      ]
     },
     "execution_count": 233,
     "metadata": {},
     "output_type": "execute_result"
    }
   ],
   "source": [
    "c.buy('AAPL',marketData=marketData, sellDate = '2/20/2018')\n",
    "c.Portfolio"
   ]
  },
  {
   "cell_type": "code",
   "execution_count": 182,
   "metadata": {},
   "outputs": [
    {
     "data": {
      "text/html": [
       "<div>\n",
       "<style>\n",
       "    .dataframe thead tr:only-child th {\n",
       "        text-align: right;\n",
       "    }\n",
       "\n",
       "    .dataframe thead th {\n",
       "        text-align: left;\n",
       "    }\n",
       "\n",
       "    .dataframe tbody tr th {\n",
       "        vertical-align: top;\n",
       "    }\n",
       "</style>\n",
       "<table border=\"1\" class=\"dataframe\">\n",
       "  <thead>\n",
       "    <tr style=\"text-align: right;\">\n",
       "      <th></th>\n",
       "      <th>Symbol</th>\n",
       "      <th>Date</th>\n",
       "      <th>Open</th>\n",
       "      <th>Close</th>\n",
       "      <th>High</th>\n",
       "      <th>Low</th>\n",
       "    </tr>\n",
       "  </thead>\n",
       "  <tbody>\n",
       "    <tr>\n",
       "      <th>0</th>\n",
       "      <td>AAPL</td>\n",
       "      <td>2018-01-30</td>\n",
       "      <td>50.0</td>\n",
       "      <td>60.0</td>\n",
       "      <td>45.0</td>\n",
       "      <td>65.0</td>\n",
       "    </tr>\n",
       "  </tbody>\n",
       "</table>\n",
       "</div>"
      ],
      "text/plain": [
       "  Symbol       Date  Open  Close  High   Low\n",
       "0   AAPL 2018-01-30  50.0   60.0  45.0  65.0"
      ]
     },
     "execution_count": 182,
     "metadata": {},
     "output_type": "execute_result"
    }
   ],
   "source": [
    "marketData[marketData['Symbol']=='AAPL'][marketData['Date']==datetime.datetime.now().date()]"
   ]
  },
  {
   "cell_type": "code",
   "execution_count": 197,
   "metadata": {},
   "outputs": [
    {
     "data": {
      "text/html": [
       "<div>\n",
       "<style>\n",
       "    .dataframe thead tr:only-child th {\n",
       "        text-align: right;\n",
       "    }\n",
       "\n",
       "    .dataframe thead th {\n",
       "        text-align: left;\n",
       "    }\n",
       "\n",
       "    .dataframe tbody tr th {\n",
       "        vertical-align: top;\n",
       "    }\n",
       "</style>\n",
       "<table border=\"1\" class=\"dataframe\">\n",
       "  <thead>\n",
       "    <tr style=\"text-align: right;\">\n",
       "      <th></th>\n",
       "      <th>Symbol</th>\n",
       "      <th>BuyDate</th>\n",
       "      <th>BuyPrice</th>\n",
       "      <th>SellDate</th>\n",
       "      <th>SellPrice</th>\n",
       "      <th>CurrentPrice</th>\n",
       "      <th>CurrentReturn</th>\n",
       "      <th>Return</th>\n",
       "    </tr>\n",
       "  </thead>\n",
       "  <tbody>\n",
       "    <tr>\n",
       "      <th>0</th>\n",
       "      <td>AAPL</td>\n",
       "      <td>2013-10-28</td>\n",
       "      <td>500.0</td>\n",
       "      <td>NaT</td>\n",
       "      <td>NaN</td>\n",
       "      <td>None</td>\n",
       "      <td>-440.0</td>\n",
       "      <td>NaN</td>\n",
       "    </tr>\n",
       "    <tr>\n",
       "      <th>1</th>\n",
       "      <td>M</td>\n",
       "      <td>2018-01-20</td>\n",
       "      <td>1000.0</td>\n",
       "      <td>2018-01-21</td>\n",
       "      <td>2000.0</td>\n",
       "      <td>None</td>\n",
       "      <td>-940.0</td>\n",
       "      <td>1000.0</td>\n",
       "    </tr>\n",
       "  </tbody>\n",
       "</table>\n",
       "</div>"
      ],
      "text/plain": [
       "  Symbol    BuyDate  BuyPrice   SellDate  SellPrice CurrentPrice  \\\n",
       "0   AAPL 2013-10-28     500.0        NaT        NaN         None   \n",
       "1      M 2018-01-20    1000.0 2018-01-21     2000.0         None   \n",
       "\n",
       "   CurrentReturn  Return  \n",
       "0         -440.0     NaN  \n",
       "1         -940.0  1000.0  "
      ]
     },
     "execution_count": 197,
     "metadata": {},
     "output_type": "execute_result"
    }
   ],
   "source": [
    "c.Portfolio"
   ]
  },
  {
   "cell_type": "code",
   "execution_count": 203,
   "metadata": {},
   "outputs": [
    {
     "data": {
      "text/plain": [
       "0    10.0\n",
       "Name: Close, dtype: float64"
      ]
     },
     "execution_count": 203,
     "metadata": {},
     "output_type": "execute_result"
    }
   ],
   "source": [
    "c.marketData[(c.marketData['Symbol'] == 'AAPL') & (c.marketData['Date']==c.Yesterday)]['Close'] - 50"
   ]
  },
  {
   "cell_type": "code",
   "execution_count": 199,
   "metadata": {},
   "outputs": [
    {
     "name": "stderr",
     "output_type": "stream",
     "text": [
      "C:\\Users\\awright\\AppData\\Local\\Continuum\\Anaconda3\\lib\\site-packages\\ipykernel_launcher.py:1: UserWarning: Boolean Series key will be reindexed to match DataFrame index.\n",
      "  \"\"\"Entry point for launching an IPython kernel.\n"
     ]
    },
    {
     "data": {
      "text/plain": [
       "0   -440.0\n",
       "1   -940.0\n",
       "Name: BuyPrice, dtype: float64"
      ]
     },
     "execution_count": 199,
     "metadata": {},
     "output_type": "execute_result"
    }
   ],
   "source": [
    "(c.marketData[marketData['Symbol'] == c.Portfolio['Symbol']][c.marketData['Date']==c.Yesterday]['Close'].values[0]\n",
    "                                           - c.Portfolio['BuyPrice'])"
   ]
  },
  {
   "cell_type": "code",
   "execution_count": 185,
   "metadata": {},
   "outputs": [
    {
     "data": {
      "text/plain": [
       "60.0"
      ]
     },
     "execution_count": 185,
     "metadata": {},
     "output_type": "execute_result"
    }
   ],
   "source": [
    "c.marketData[(marketData['Symbol'] == 'AAPL') & (marketData['Date'] == datetime.datetime.now().date())]['Close'].values[0]"
   ]
  },
  {
   "cell_type": "code",
   "execution_count": 313,
   "metadata": {
    "collapsed": true
   },
   "outputs": [],
   "source": [
    "marketData = [('AAPL','2018-01-30','50','60','45','65')\n",
    "             ,('AAPL','2018-01-29','51','62','40','69')]\n",
    "marketData = pd.DataFrame(marketData,columns = ['Symbol','Date','Open','Close','High','Low'])\n",
    "marketData = marketData.astype({'Symbol':object,'Date':datetime.date,'Open':'float64','Close':'float64','High':'float64','Low':'float64'})\n",
    "marketData = marketData.astype({'Date':'datetime64[ns]'})\n"
   ]
  },
  {
   "cell_type": "code",
   "execution_count": 314,
   "metadata": {},
   "outputs": [
    {
     "data": {
      "text/plain": [
       "Symbol            object\n",
       "Date      datetime64[ns]\n",
       "Open             float64\n",
       "Close            float64\n",
       "High             float64\n",
       "Low              float64\n",
       "dtype: object"
      ]
     },
     "execution_count": 314,
     "metadata": {},
     "output_type": "execute_result"
    }
   ],
   "source": [
    "marketData.dtypes"
   ]
  },
  {
   "cell_type": "code",
   "execution_count": 315,
   "metadata": {},
   "outputs": [
    {
     "data": {
      "text/html": [
       "<div>\n",
       "<style>\n",
       "    .dataframe thead tr:only-child th {\n",
       "        text-align: right;\n",
       "    }\n",
       "\n",
       "    .dataframe thead th {\n",
       "        text-align: left;\n",
       "    }\n",
       "\n",
       "    .dataframe tbody tr th {\n",
       "        vertical-align: top;\n",
       "    }\n",
       "</style>\n",
       "<table border=\"1\" class=\"dataframe\">\n",
       "  <thead>\n",
       "    <tr style=\"text-align: right;\">\n",
       "      <th></th>\n",
       "      <th>Symbol</th>\n",
       "      <th>Date</th>\n",
       "      <th>Open</th>\n",
       "      <th>Close</th>\n",
       "      <th>High</th>\n",
       "      <th>Low</th>\n",
       "    </tr>\n",
       "  </thead>\n",
       "  <tbody>\n",
       "    <tr>\n",
       "      <th>0</th>\n",
       "      <td>AAPL</td>\n",
       "      <td>2018-01-30</td>\n",
       "      <td>50.0</td>\n",
       "      <td>60.0</td>\n",
       "      <td>45.0</td>\n",
       "      <td>65.0</td>\n",
       "    </tr>\n",
       "    <tr>\n",
       "      <th>1</th>\n",
       "      <td>AAPL</td>\n",
       "      <td>2018-01-29</td>\n",
       "      <td>51.0</td>\n",
       "      <td>62.0</td>\n",
       "      <td>40.0</td>\n",
       "      <td>69.0</td>\n",
       "    </tr>\n",
       "  </tbody>\n",
       "</table>\n",
       "</div>"
      ],
      "text/plain": [
       "  Symbol       Date  Open  Close  High   Low\n",
       "0   AAPL 2018-01-30  50.0   60.0  45.0  65.0\n",
       "1   AAPL 2018-01-29  51.0   62.0  40.0  69.0"
      ]
     },
     "execution_count": 315,
     "metadata": {},
     "output_type": "execute_result"
    }
   ],
   "source": [
    "marketData"
   ]
  },
  {
   "cell_type": "code",
   "execution_count": 65,
   "metadata": {},
   "outputs": [
    {
     "name": "stderr",
     "output_type": "stream",
     "text": [
      "C:\\Users\\awright\\AppData\\Local\\Continuum\\Anaconda3\\lib\\site-packages\\pandas\\core\\indexes\\api.py:77: RuntimeWarning: '<' not supported between instances of 'str' and 'int', sort order is undefined for incomparable objects\n",
      "  result = result.union(other)\n"
     ]
    }
   ],
   "source": [
    "\n",
    "c.buy(asset = 'AAPL', marketData = c.marketData)"
   ]
  },
  {
   "cell_type": "code",
   "execution_count": 83,
   "metadata": {},
   "outputs": [
    {
     "data": {
      "text/plain": [
       "dtype('float64')"
      ]
     },
     "execution_count": 83,
     "metadata": {},
     "output_type": "execute_result"
    }
   ],
   "source": []
  },
  {
   "cell_type": "code",
   "execution_count": 79,
   "metadata": {},
   "outputs": [
    {
     "data": {
      "text/plain": [
       "dtype('O')"
      ]
     },
     "execution_count": 79,
     "metadata": {},
     "output_type": "execute_result"
    }
   ],
   "source": [
    "c.marketData.columns.dtype"
   ]
  },
  {
   "cell_type": "code",
   "execution_count": 42,
   "metadata": {
    "collapsed": true
   },
   "outputs": [],
   "source": [
    "marketData = [('AAPL','2018-01-30','50','60','45','65')\n",
    "             ,('AAPL','2018-01-29','51','62','40','69')]"
   ]
  },
  {
   "cell_type": "code",
   "execution_count": 43,
   "metadata": {
    "collapsed": true
   },
   "outputs": [],
   "source": [
    "M= pd.DataFrame(marketData,columns = ['Symbol','Date','Open','Close','High','Low']).astype({'Symbol':object,'Date':'datetime64[ns]','Open':'float64','Close':'float64','High':'float64','Low':'float64'})\n",
    "M = M.astype({'Date':'datetime64[ns]'})"
   ]
  },
  {
   "cell_type": "code",
   "execution_count": null,
   "metadata": {
    "collapsed": true
   },
   "outputs": [],
   "source": []
  },
  {
   "cell_type": "code",
   "execution_count": 16,
   "metadata": {
    "collapsed": true
   },
   "outputs": [],
   "source": [
    "date = datetime.datetime.now().date()"
   ]
  },
  {
   "cell_type": "code",
   "execution_count": 26,
   "metadata": {},
   "outputs": [
    {
     "data": {
      "text/plain": [
       "0   2018-01-30\n",
       "1   2018-01-29\n",
       "Name: Date, dtype: datetime64[ns]"
      ]
     },
     "execution_count": 26,
     "metadata": {},
     "output_type": "execute_result"
    }
   ],
   "source": [
    "M['Date']"
   ]
  },
  {
   "cell_type": "code",
   "execution_count": 37,
   "metadata": {},
   "outputs": [
    {
     "data": {
      "text/plain": [
       "['AAPL', Timestamp('2018-01-30 00:00:00'), 60.0]"
      ]
     },
     "execution_count": 37,
     "metadata": {},
     "output_type": "execute_result"
    }
   ],
   "source": [
    "M[(M['Symbol'] == 'AAPL') & (M['Date'] == date)][['Symbol','Date','Close']].values.tolist()[0]"
   ]
  },
  {
   "cell_type": "code",
   "execution_count": 46,
   "metadata": {
    "collapsed": true
   },
   "outputs": [],
   "source": [
    "c.buy(asset ='AAPL',marketHistory = M)"
   ]
  },
  {
   "cell_type": "code",
   "execution_count": 33,
   "metadata": {},
   "outputs": [
    {
     "ename": "TypeError",
     "evalue": "list indices must be integers or slices, not str",
     "output_type": "error",
     "traceback": [
      "\u001b[1;31m---------------------------------------------------------------------------\u001b[0m",
      "\u001b[1;31mTypeError\u001b[0m                                 Traceback (most recent call last)",
      "\u001b[1;32m<ipython-input-33-a825bfe12328>\u001b[0m in \u001b[0;36m<module>\u001b[1;34m()\u001b[0m\n\u001b[1;32m----> 1\u001b[1;33m \u001b[0mmarketData\u001b[0m\u001b[1;33m[\u001b[0m\u001b[1;33m(\u001b[0m\u001b[0mmarketData\u001b[0m\u001b[1;33m[\u001b[0m\u001b[1;34m'Symbol'\u001b[0m\u001b[1;33m]\u001b[0m \u001b[1;33m==\u001b[0m \u001b[0masset\u001b[0m\u001b[1;33m)\u001b[0m \u001b[1;33m&\u001b[0m \u001b[1;33m(\u001b[0m\u001b[0mmarketData\u001b[0m\u001b[1;33m[\u001b[0m\u001b[1;34m'Date'\u001b[0m\u001b[1;33m]\u001b[0m \u001b[1;33m==\u001b[0m \u001b[0mdate\u001b[0m\u001b[1;33m)\u001b[0m\u001b[1;33m]\u001b[0m\u001b[1;33m[\u001b[0m\u001b[1;33m[\u001b[0m\u001b[1;34m'Symbol'\u001b[0m\u001b[1;33m,\u001b[0m\u001b[1;34m'Date'\u001b[0m\u001b[1;33m,\u001b[0m\u001b[1;34m'Close'\u001b[0m\u001b[1;33m]\u001b[0m\u001b[1;33m]\u001b[0m\u001b[1;33m\u001b[0m\u001b[0m\n\u001b[0m",
      "\u001b[1;31mTypeError\u001b[0m: list indices must be integers or slices, not str"
     ]
    }
   ],
   "source": [
    "marketData[(marketData['Symbol'] == asset) & (marketData['Date'] == date)][['Symbol','Date','Close']]"
   ]
  },
  {
   "cell_type": "code",
   "execution_count": 75,
   "metadata": {},
   "outputs": [
    {
     "data": {
      "text/plain": [
       "Index(['Symbol', 'BuyDate', 'BuyPrice', 'SellDate', 'SellPrice', 'Return'], dtype='object')"
      ]
     },
     "execution_count": 75,
     "metadata": {},
     "output_type": "execute_result"
    }
   ],
   "source": [
    "c.Portfolio.columns"
   ]
  },
  {
   "cell_type": "code",
   "execution_count": 76,
   "metadata": {
    "collapsed": true
   },
   "outputs": [],
   "source": [
    "import numpy as np"
   ]
  },
  {
   "cell_type": "code",
   "execution_count": 77,
   "metadata": {
    "collapsed": true
   },
   "outputs": [],
   "source": [
    "a = np.ones(5)"
   ]
  },
  {
   "cell_type": "code",
   "execution_count": 81,
   "metadata": {
    "collapsed": true
   },
   "outputs": [],
   "source": [
    "c.Portfolio = c.Portfolio"
   ]
  },
  {
   "cell_type": "code",
   "execution_count": 20,
   "metadata": {
    "collapsed": true
   },
   "outputs": [],
   "source": [
    "data = []"
   ]
  },
  {
   "cell_type": "code",
   "execution_count": 3,
   "metadata": {},
   "outputs": [
    {
     "data": {
      "text/html": [
       "<div>\n",
       "<style>\n",
       "    .dataframe thead tr:only-child th {\n",
       "        text-align: right;\n",
       "    }\n",
       "\n",
       "    .dataframe thead th {\n",
       "        text-align: left;\n",
       "    }\n",
       "\n",
       "    .dataframe tbody tr th {\n",
       "        vertical-align: top;\n",
       "    }\n",
       "</style>\n",
       "<table border=\"1\" class=\"dataframe\">\n",
       "  <thead>\n",
       "    <tr style=\"text-align: right;\">\n",
       "      <th></th>\n",
       "    </tr>\n",
       "  </thead>\n",
       "  <tbody>\n",
       "  </tbody>\n",
       "</table>\n",
       "</div>"
      ],
      "text/plain": [
       "Empty DataFrame\n",
       "Columns: []\n",
       "Index: []"
      ]
     },
     "execution_count": 3,
     "metadata": {},
     "output_type": "execute_result"
    }
   ],
   "source": [
    "pd.DataFrame(a)"
   ]
  },
  {
   "cell_type": "code",
   "execution_count": 21,
   "metadata": {},
   "outputs": [
    {
     "data": {
      "text/html": [
       "<div>\n",
       "<style>\n",
       "    .dataframe thead tr:only-child th {\n",
       "        text-align: right;\n",
       "    }\n",
       "\n",
       "    .dataframe thead th {\n",
       "        text-align: left;\n",
       "    }\n",
       "\n",
       "    .dataframe tbody tr th {\n",
       "        vertical-align: top;\n",
       "    }\n",
       "</style>\n",
       "<table border=\"1\" class=\"dataframe\">\n",
       "  <thead>\n",
       "    <tr style=\"text-align: right;\">\n",
       "      <th></th>\n",
       "      <th>Symbol</th>\n",
       "      <th>BuyDate</th>\n",
       "      <th>BuyPrice</th>\n",
       "      <th>SellDate</th>\n",
       "      <th>SellPrice</th>\n",
       "      <th>Return</th>\n",
       "    </tr>\n",
       "  </thead>\n",
       "  <tbody>\n",
       "  </tbody>\n",
       "</table>\n",
       "</div>"
      ],
      "text/plain": [
       "Empty DataFrame\n",
       "Columns: [Symbol, BuyDate, BuyPrice, SellDate, SellPrice, Return]\n",
       "Index: []"
      ]
     },
     "execution_count": 21,
     "metadata": {},
     "output_type": "execute_result"
    }
   ],
   "source": [
    "pd.DataFrame(data, columns = ['Symbol','BuyDate','BuyPrice','SellDate','SellPrice','Return'])"
   ]
  },
  {
   "cell_type": "code",
   "execution_count": 48,
   "metadata": {},
   "outputs": [
    {
     "data": {
      "text/plain": [
       "[('AAPL', '2013-10-28', 500, None, None, None),\n",
       " ('M', '2018-01-20', 1000, '2018-01-21', 2000, None)]"
      ]
     },
     "execution_count": 48,
     "metadata": {},
     "output_type": "execute_result"
    }
   ],
   "source": [
    "data_rows"
   ]
  },
  {
   "cell_type": "code",
   "execution_count": 49,
   "metadata": {
    "collapsed": true
   },
   "outputs": [],
   "source": [
    "data_rows.append(['a','2013-29-12',1000,None,None,None])"
   ]
  },
  {
   "cell_type": "code",
   "execution_count": 62,
   "metadata": {},
   "outputs": [
    {
     "data": {
      "text/html": [
       "<div>\n",
       "<style>\n",
       "    .dataframe thead tr:only-child th {\n",
       "        text-align: right;\n",
       "    }\n",
       "\n",
       "    .dataframe thead th {\n",
       "        text-align: left;\n",
       "    }\n",
       "\n",
       "    .dataframe tbody tr th {\n",
       "        vertical-align: top;\n",
       "    }\n",
       "</style>\n",
       "<table border=\"1\" class=\"dataframe\">\n",
       "  <thead>\n",
       "    <tr style=\"text-align: right;\">\n",
       "      <th></th>\n",
       "      <th>Symbol</th>\n",
       "      <th>Date</th>\n",
       "      <th>Open</th>\n",
       "      <th>Close</th>\n",
       "      <th>High</th>\n",
       "      <th>Low</th>\n",
       "    </tr>\n",
       "  </thead>\n",
       "  <tbody>\n",
       "    <tr>\n",
       "      <th>0</th>\n",
       "      <td>AAPL</td>\n",
       "      <td>2018-01-30 00:00:00.000000</td>\n",
       "      <td>50.0</td>\n",
       "      <td>60.0</td>\n",
       "      <td>45.0</td>\n",
       "      <td>65.0</td>\n",
       "    </tr>\n",
       "    <tr>\n",
       "      <th>1</th>\n",
       "      <td>AAPL</td>\n",
       "      <td>2018-01-29 00:00:00.000000</td>\n",
       "      <td>51.0</td>\n",
       "      <td>62.0</td>\n",
       "      <td>40.0</td>\n",
       "      <td>69.0</td>\n",
       "    </tr>\n",
       "    <tr>\n",
       "      <th>2</th>\n",
       "      <td>GRE</td>\n",
       "      <td>2018-01-30 14:39:04.168399</td>\n",
       "      <td>400.0</td>\n",
       "      <td>NaN</td>\n",
       "      <td>NaN</td>\n",
       "      <td>NaN</td>\n",
       "    </tr>\n",
       "  </tbody>\n",
       "</table>\n",
       "</div>"
      ],
      "text/plain": [
       "  Symbol                       Date   Open  Close  High   Low\n",
       "0   AAPL 2018-01-30 00:00:00.000000   50.0   60.0  45.0  65.0\n",
       "1   AAPL 2018-01-29 00:00:00.000000   51.0   62.0  40.0  69.0\n",
       "2    GRE 2018-01-30 14:39:04.168399  400.0    NaN   NaN   NaN"
      ]
     },
     "execution_count": 62,
     "metadata": {},
     "output_type": "execute_result"
    }
   ],
   "source": [
    "M.append({'Symbol':'GRE','Date':datetime.datetime.now(),'Open':400}, ignore_index=True)"
   ]
  },
  {
   "cell_type": "code",
   "execution_count": 53,
   "metadata": {},
   "outputs": [
    {
     "data": {
      "text/html": [
       "<div>\n",
       "<style>\n",
       "    .dataframe thead tr:only-child th {\n",
       "        text-align: right;\n",
       "    }\n",
       "\n",
       "    .dataframe thead th {\n",
       "        text-align: left;\n",
       "    }\n",
       "\n",
       "    .dataframe tbody tr th {\n",
       "        vertical-align: top;\n",
       "    }\n",
       "</style>\n",
       "<table border=\"1\" class=\"dataframe\">\n",
       "  <thead>\n",
       "    <tr style=\"text-align: right;\">\n",
       "      <th></th>\n",
       "      <th>Symbol</th>\n",
       "      <th>Date</th>\n",
       "      <th>Open</th>\n",
       "      <th>Close</th>\n",
       "      <th>High</th>\n",
       "      <th>Low</th>\n",
       "    </tr>\n",
       "  </thead>\n",
       "  <tbody>\n",
       "    <tr>\n",
       "      <th>0</th>\n",
       "      <td>AAPL</td>\n",
       "      <td>2018-01-30</td>\n",
       "      <td>50.0</td>\n",
       "      <td>60.0</td>\n",
       "      <td>45.0</td>\n",
       "      <td>65.0</td>\n",
       "    </tr>\n",
       "    <tr>\n",
       "      <th>1</th>\n",
       "      <td>AAPL</td>\n",
       "      <td>2018-01-29</td>\n",
       "      <td>51.0</td>\n",
       "      <td>62.0</td>\n",
       "      <td>40.0</td>\n",
       "      <td>69.0</td>\n",
       "    </tr>\n",
       "  </tbody>\n",
       "</table>\n",
       "</div>"
      ],
      "text/plain": [
       "  Symbol       Date  Open  Close  High   Low\n",
       "0   AAPL 2018-01-30  50.0   60.0  45.0  65.0\n",
       "1   AAPL 2018-01-29  51.0   62.0  40.0  69.0"
      ]
     },
     "execution_count": 53,
     "metadata": {},
     "output_type": "execute_result"
    }
   ],
   "source": [
    "M"
   ]
  },
  {
   "cell_type": "code",
   "execution_count": null,
   "metadata": {
    "collapsed": true
   },
   "outputs": [],
   "source": []
  }
 ],
 "metadata": {
  "kernelspec": {
   "display_name": "Python 3",
   "language": "python",
   "name": "python3"
  },
  "language_info": {
   "codemirror_mode": {
    "name": "ipython",
    "version": 3
   },
   "file_extension": ".py",
   "mimetype": "text/x-python",
   "name": "python",
   "nbconvert_exporter": "python",
   "pygments_lexer": "ipython3",
   "version": "3.6.2"
  }
 },
 "nbformat": 4,
 "nbformat_minor": 2
}
