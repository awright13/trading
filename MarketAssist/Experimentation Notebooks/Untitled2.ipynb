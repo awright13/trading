{
 "cells": [
  {
   "cell_type": "code",
   "execution_count": null,
   "metadata": {
    "collapsed": true
   },
   "outputs": [],
   "source": [
    "pivot = WIKIP2000.History.pivot(index='Date',columns='Symbol',values='Close').isnull()\n",
    "pivot = pivot.reset_index()\n",
    "unpivot = pd.melt(pivot, id_vars = 'Date', value_vars=pivot.columns[1:])\n",
    "\n",
    "missing_data = unpivot[unpivot.value == True]\n",
    "\n",
    "subdatas = []\n",
    "\n",
    "# For each identified missing date/symbol pair in missing_data, identify the most recent previous existing record and\n",
    "# substitute that value in its place.\n",
    "for i in range(len(missing_data)):\n",
    "    breaker = 0\n",
    "    symbol = missing_data.iloc[i].Symbol\n",
    "    date = missing_data.iloc[i].Date.to_pydatetime()\n",
    "\n",
    "    if date.weekday() == 0:\n",
    "        back = 3\n",
    "    elif date.weekday() == 6:\n",
    "        back = 2\n",
    "    else:\n",
    "        back = 1\n",
    "\n",
    "    prevdate = date + datetime.timedelta(days=-back)\n",
    "\n",
    "    while WIKIP2000.History[(WIKIP2000.History.Date == prevdate) & (WIKIP2000.History.Symbol == symbol)].shape[0] == 0:\n",
    "\n",
    "        prevdate = prevdate + datetime.timedelta(days=-1)\n",
    "\n",
    "        if prevdate <= min(WIKIP2000.History.Date):\n",
    "\n",
    "            WIKIP2000.History = WIKIP2000.History[~(WIKIP2000.History.Symbol == symbol)]\n",
    "            breaker = 1\n",
    "            break\n",
    "\n",
    "    if breaker == 1:\n",
    "        print('Data Substitution Failed. All {} data removed from History'.format(symbol))\n",
    "        pass\n",
    "    else:\n",
    "        ind = WIKIP2000.History[(WIKIP2000.History.Date == prevdate) & (WIKIP2000.History.Symbol == symbol)].index.values[0]\n",
    "        subdata = WIKIP2000.History[WIKIP2000.History.index == (ind)].to_dict('records')[0]\n",
    "        subdata['Date'] = date\n",
    "        subdata['DailyPctChg'] = 0\n",
    "        subdatas.append(subdata)\n",
    "\n",
    "# Lastly, append all the new (substitution) records onto the old History DataFrame, and then reorganize so we're back in order.\n",
    "WIKIP2000.History = pd.concat([WIKIP2000.History, pd.DataFrame(subdatas)], ignore_index = True)\n",
    "WIKIP2000.History = WIKIP2000.History.sort_values(by=['Symbol','Date'])\n",
    "print('{} at {} substituted with data from {}'.format(symbol,date,prevdate))"
   ]
  }
 ],
 "metadata": {
  "kernelspec": {
   "display_name": "Python 3",
   "language": "python",
   "name": "python3"
  },
  "language_info": {
   "codemirror_mode": {
    "name": "ipython",
    "version": 3
   },
   "file_extension": ".py",
   "mimetype": "text/x-python",
   "name": "python",
   "nbconvert_exporter": "python",
   "pygments_lexer": "ipython3",
   "version": "3.6.2"
  }
 },
 "nbformat": 4,
 "nbformat_minor": 2
}
