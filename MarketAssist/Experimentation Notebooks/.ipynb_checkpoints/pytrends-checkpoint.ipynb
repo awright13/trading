{
 "cells": [
  {
   "cell_type": "code",
   "execution_count": 46,
   "metadata": {},
   "outputs": [],
   "source": [
    "import pytrends\n",
    "import pandas as pd\n",
    "from pytrends.request import TrendReq\n",
    "from datetime import datetime\n",
    "import matplotlib.pyplot as plt"
   ]
  },
  {
   "cell_type": "code",
   "execution_count": 7,
   "metadata": {
    "collapsed": true
   },
   "outputs": [],
   "source": [
    "pytrend = TrendReq()"
   ]
  },
  {
   "cell_type": "code",
   "execution_count": 9,
   "metadata": {},
   "outputs": [
    {
     "ename": "TypeError",
     "evalue": "interest_over_time() got an unexpected keyword argument 'kw_list'",
     "output_type": "error",
     "traceback": [
      "\u001b[1;31m---------------------------------------------------------------------------\u001b[0m",
      "\u001b[1;31mTypeError\u001b[0m                                 Traceback (most recent call last)",
      "\u001b[1;32m<ipython-input-9-d65c0db05ef5>\u001b[0m in \u001b[0;36m<module>\u001b[1;34m()\u001b[0m\n\u001b[1;32m----> 1\u001b[1;33m \u001b[0mEarnings\u001b[0m \u001b[1;33m=\u001b[0m \u001b[0mpytrend\u001b[0m\u001b[1;33m.\u001b[0m\u001b[0minterest_over_time\u001b[0m\u001b[1;33m(\u001b[0m\u001b[0mkw_list\u001b[0m \u001b[1;33m=\u001b[0m \u001b[1;33m[\u001b[0m\u001b[1;34m'Earnings'\u001b[0m\u001b[1;33m]\u001b[0m\u001b[1;33m,\u001b[0m \u001b[0mgeo\u001b[0m \u001b[1;33m=\u001b[0m \u001b[1;34m'US'\u001b[0m\u001b[1;33m,\u001b[0m \u001b[0mtimeframe\u001b[0m \u001b[1;33m=\u001b[0m \u001b[1;34m'today 12-m'\u001b[0m\u001b[1;33m)\u001b[0m\u001b[1;33m\u001b[0m\u001b[0m\n\u001b[0m",
      "\u001b[1;31mTypeError\u001b[0m: interest_over_time() got an unexpected keyword argument 'kw_list'"
     ]
    }
   ],
   "source": [
    "Earnings = pytrend.interest_over_time(kw_list = ['Earnings'], geo = 'US', timeframe = 'today 12-m')"
   ]
  },
  {
   "cell_type": "code",
   "execution_count": 5,
   "metadata": {},
   "outputs": [
    {
     "ename": "AttributeError",
     "evalue": "module 'pytrends' has no attribute 'interest_over_time'",
     "output_type": "error",
     "traceback": [
      "\u001b[1;31m---------------------------------------------------------------------------\u001b[0m",
      "\u001b[1;31mAttributeError\u001b[0m                            Traceback (most recent call last)",
      "\u001b[1;32m<ipython-input-5-4b46993a7b6f>\u001b[0m in \u001b[0;36m<module>\u001b[1;34m()\u001b[0m\n\u001b[1;32m----> 1\u001b[1;33m \u001b[0mpytrends\u001b[0m\u001b[1;33m.\u001b[0m\u001b[0minterest_over_time\u001b[0m\u001b[1;33m(\u001b[0m\u001b[1;33m)\u001b[0m\u001b[1;33m\u001b[0m\u001b[0m\n\u001b[0m",
      "\u001b[1;31mAttributeError\u001b[0m: module 'pytrends' has no attribute 'interest_over_time'"
     ]
    }
   ],
   "source": [
    "pytrends.interest_over_time()"
   ]
  },
  {
   "cell_type": "code",
   "execution_count": 10,
   "metadata": {},
   "outputs": [
    {
     "ename": "ModuleNotFoundError",
     "evalue": "No module named 'pytrends.pyGTrends'",
     "output_type": "error",
     "traceback": [
      "\u001b[1;31m---------------------------------------------------------------------------\u001b[0m",
      "\u001b[1;31mModuleNotFoundError\u001b[0m                       Traceback (most recent call last)",
      "\u001b[1;32m<ipython-input-10-2b372e1d9997>\u001b[0m in \u001b[0;36m<module>\u001b[1;34m()\u001b[0m\n\u001b[1;32m----> 1\u001b[1;33m \u001b[1;32mfrom\u001b[0m \u001b[0mpytrends\u001b[0m\u001b[1;33m.\u001b[0m\u001b[0mpyGTrends\u001b[0m \u001b[1;32mimport\u001b[0m \u001b[0mpyGTrends\u001b[0m\u001b[1;33m\u001b[0m\u001b[0m\n\u001b[0m\u001b[0;32m      2\u001b[0m \u001b[1;32mimport\u001b[0m \u001b[0mtime\u001b[0m\u001b[1;33m\u001b[0m\u001b[0m\n\u001b[0;32m      3\u001b[0m \u001b[1;32mfrom\u001b[0m \u001b[0mrandom\u001b[0m \u001b[1;32mimport\u001b[0m \u001b[0mrandint\u001b[0m\u001b[1;33m\u001b[0m\u001b[0m\n\u001b[0;32m      4\u001b[0m \u001b[1;32mfrom\u001b[0m \u001b[0mIPython\u001b[0m\u001b[1;33m.\u001b[0m\u001b[0mdisplay\u001b[0m \u001b[1;32mimport\u001b[0m \u001b[0mdisplay\u001b[0m\u001b[1;33m\u001b[0m\u001b[0m\n\u001b[0;32m      5\u001b[0m \u001b[1;32mfrom\u001b[0m \u001b[0mpprint\u001b[0m \u001b[1;32mimport\u001b[0m \u001b[0mpprint\u001b[0m\u001b[1;33m\u001b[0m\u001b[0m\n",
      "\u001b[1;31mModuleNotFoundError\u001b[0m: No module named 'pytrends.pyGTrends'"
     ]
    }
   ],
   "source": [
    "from pytrends.pyGTrends import pyGTrends\n",
    "import time\n",
    "from random import randint\n",
    "from IPython.display import display\n",
    "from pprint import pprint\n",
    "import urllib\n",
    "import sys\n",
    "\n",
    "google_username = \"awright0191@gmail.com\"\n",
    "google_password = \"doNOT4getit\"\n",
    "path = \".\"\n",
    "\n",
    "terms = [\n",
    "    \"Image Processing\",\n",
    "    \"Signal Processing\",\n",
    "    \"Computer Vision\",\n",
    "    \"Machine Learning\",\n",
    "    \"Information Retrieval\",\n",
    "    \"Data Mining\"\n",
    "]\n",
    "# connect to Google Trends API\n",
    "connector = pyGTrends(google_username, google_password)\n",
    "\n",
    "\n",
    "for label in terms:\n",
    "    print(label)\n",
    "    sys.stdout.flush()\n",
    "    #kw_string = '\"{0}\"'.format(keyword, base_keyword)\n",
    "    connector.request_report(label, geo=\"US\", date=\"01/2014 96m\")\n",
    "    # wait a random amount of time between requests to avoid bot detection\n",
    "    time.sleep(randint(5, 10))\n",
    "    # download file\n",
    "    connector.save_csv(path, label)\n",
    "\n",
    "for term in terms:\n",
    "    data = connector.get_suggestions(term)\n",
    "    pprint(data)"
   ]
  },
  {
   "cell_type": "code",
   "execution_count": 13,
   "metadata": {},
   "outputs": [
    {
     "ename": "NameError",
     "evalue": "name 'pyTrends' is not defined",
     "output_type": "error",
     "traceback": [
      "\u001b[1;31m---------------------------------------------------------------------------\u001b[0m",
      "\u001b[1;31mNameError\u001b[0m                                 Traceback (most recent call last)",
      "\u001b[1;32m<ipython-input-13-ac463a776a42>\u001b[0m in \u001b[0;36m<module>\u001b[1;34m()\u001b[0m\n\u001b[0;32m     19\u001b[0m ]\n\u001b[0;32m     20\u001b[0m \u001b[1;31m# connect to Google Trends API\u001b[0m\u001b[1;33m\u001b[0m\u001b[1;33m\u001b[0m\u001b[0m\n\u001b[1;32m---> 21\u001b[1;33m \u001b[0mconnector\u001b[0m \u001b[1;33m=\u001b[0m \u001b[0mpyTrends\u001b[0m\u001b[1;33m(\u001b[0m\u001b[0mgoogle_username\u001b[0m\u001b[1;33m,\u001b[0m \u001b[0mgoogle_password\u001b[0m\u001b[1;33m)\u001b[0m\u001b[1;33m\u001b[0m\u001b[0m\n\u001b[0m\u001b[0;32m     22\u001b[0m \u001b[1;33m\u001b[0m\u001b[0m\n\u001b[0;32m     23\u001b[0m \u001b[1;33m\u001b[0m\u001b[0m\n",
      "\u001b[1;31mNameError\u001b[0m: name 'pyTrends' is not defined"
     ]
    }
   ],
   "source": [
    "import time\n",
    "from random import randint\n",
    "from IPython.display import display\n",
    "from pprint import pprint\n",
    "import urllib\n",
    "import sys\n",
    "\n",
    "google_username = \"awright0191@gmail.com\"\n",
    "google_password = \"doNOT4getit\"\n",
    "path = \".\"\n",
    "\n",
    "terms = [\n",
    "    \"Image Processing\",\n",
    "    \"Signal Processing\",\n",
    "    \"Computer Vision\",\n",
    "    \"Machine Learning\",\n",
    "    \"Information Retrieval\",\n",
    "    \"Data Mining\"\n",
    "]\n",
    "# connect to Google Trends API\n",
    "connector = pyTrends(google_username, google_password)\n",
    "\n",
    "\n",
    "for label in terms:\n",
    "    print(label)\n",
    "    sys.stdout.flush()\n",
    "    #kw_string = '\"{0}\"'.format(keyword, base_keyword)\n",
    "    connector.request_report(label, geo=\"US\", date=\"01/2014 96m\")\n",
    "    # wait a random amount of time between requests to avoid bot detection\n",
    "    time.sleep(randint(5, 10))\n",
    "    # download file\n",
    "    connector.save_csv(path, label)\n",
    "\n",
    "for term in terms:\n",
    "    data = connector.get_suggestions(term)\n",
    "    pprint(data)"
   ]
  },
  {
   "cell_type": "code",
   "execution_count": 82,
   "metadata": {
    "collapsed": true
   },
   "outputs": [],
   "source": [
    "pytrend = TrendReq()"
   ]
  },
  {
   "cell_type": "code",
   "execution_count": 83,
   "metadata": {
    "collapsed": true
   },
   "outputs": [],
   "source": [
    "pytrend.build_payload(kw_list=['Earnings', 'Inflation'], geo = 'US', timeframe = 'today 12-m')"
   ]
  },
  {
   "cell_type": "code",
   "execution_count": 24,
   "metadata": {},
   "outputs": [
    {
     "name": "stdout",
     "output_type": "stream",
     "text": [
      "            Earnings  Inflation isPartial\n",
      "date                                     \n",
      "2017-02-05        55         29     False\n",
      "2017-02-12        47         32     False\n",
      "2017-02-19        43         31     False\n",
      "2017-02-26        39         32     False\n",
      "2017-03-05        35         32     False\n",
      "2017-03-12        28         30     False\n",
      "2017-03-19        29         30     False\n",
      "2017-03-26        32         30     False\n",
      "2017-04-02        33         31     False\n",
      "2017-04-09        39         31     False\n",
      "2017-04-16        48         30     False\n",
      "2017-04-23        67         36     False\n",
      "2017-04-30        69         34     False\n",
      "2017-05-07        48         32     False\n",
      "2017-05-14        34         27     False\n",
      "2017-05-21        29         25     False\n",
      "2017-05-28        24         23     False\n",
      "2017-06-04        24         23     False\n",
      "2017-06-11        24         22     False\n",
      "2017-06-18        30         22     False\n",
      "2017-06-25        29         21     False\n",
      "2017-07-02        26         21     False\n",
      "2017-07-09        37         23     False\n",
      "2017-07-16        56         20     False\n",
      "2017-07-23        80         19     False\n",
      "2017-07-30        66         21     False\n",
      "2017-08-06        50         20     False\n",
      "2017-08-13        31         18     False\n",
      "2017-08-20        28         19     False\n",
      "2017-08-27        36         21     False\n",
      "2017-09-03        29         22     False\n",
      "2017-09-10        30         25     False\n",
      "2017-09-17        30         27     False\n",
      "2017-09-24        33         29     False\n",
      "2017-10-01        32         28     False\n",
      "2017-10-08        36         29     False\n",
      "2017-10-15        50         31     False\n",
      "2017-10-22        71         30     False\n",
      "2017-10-29        73         32     False\n",
      "2017-11-05        56         28     False\n",
      "2017-11-12        36         31     False\n",
      "2017-11-19        28         27     False\n",
      "2017-11-26        33         33     False\n",
      "2017-12-03        33         35     False\n",
      "2017-12-10        30         33     False\n",
      "2017-12-17        27         27     False\n",
      "2017-12-24        20         22     False\n",
      "2017-12-31        26         24     False\n",
      "2018-01-07        37         27     False\n",
      "2018-01-14        43         27     False\n",
      "2018-01-21        71         30     False\n",
      "2018-01-28       100         31      True\n"
     ]
    }
   ],
   "source": [
    "interest_over_time_df = pytrend.interest_over_time()\n",
    "print(interest_over_time_df)"
   ]
  },
  {
   "cell_type": "code",
   "execution_count": 33,
   "metadata": {},
   "outputs": [
    {
     "data": {
      "text/plain": [
       "<matplotlib.axes._subplots.AxesSubplot at 0xbf4a940>"
      ]
     },
     "execution_count": 33,
     "metadata": {},
     "output_type": "execute_result"
    }
   ],
   "source": [
    "interest_over_time_df.plot()"
   ]
  },
  {
   "cell_type": "code",
   "execution_count": 36,
   "metadata": {},
   "outputs": [],
   "source": [
    "df = interest_over_time_df.reset_index()"
   ]
  },
  {
   "cell_type": "code",
   "execution_count": 75,
   "metadata": {},
   "outputs": [],
   "source": [
    "x = df['date']\n",
    "y = df[['Earnings','Inflation',]]"
   ]
  },
  {
   "cell_type": "code",
   "execution_count": 80,
   "metadata": {},
   "outputs": [
    {
     "data": {
      "text/plain": [
       "date         datetime64[ns]\n",
       "Earnings              int32\n",
       "Inflation             int32\n",
       "isPartial            object\n",
       "dtype: object"
      ]
     },
     "execution_count": 80,
     "metadata": {},
     "output_type": "execute_result"
    }
   ],
   "source": [
    "df.dtypes"
   ]
  },
  {
   "cell_type": "code",
   "execution_count": 81,
   "metadata": {
    "scrolled": false
   },
   "outputs": [
    {
     "ename": "TypeError",
     "evalue": "Cannot compare type 'Timestamp' with type 'float'",
     "output_type": "error",
     "traceback": [
      "\u001b[1;31m---------------------------------------------------------------------------\u001b[0m",
      "\u001b[1;31mTypeError\u001b[0m                                 Traceback (most recent call last)",
      "\u001b[1;32m<ipython-input-81-0a52a002374d>\u001b[0m in \u001b[0;36m<module>\u001b[1;34m()\u001b[0m\n\u001b[0;32m      2\u001b[0m \u001b[1;33m\u001b[0m\u001b[0m\n\u001b[0;32m      3\u001b[0m \u001b[0max\u001b[0m\u001b[1;33m.\u001b[0m\u001b[0mplot\u001b[0m\u001b[1;33m(\u001b[0m\u001b[0mx\u001b[0m\u001b[1;33m,\u001b[0m\u001b[0my\u001b[0m\u001b[1;33m)\u001b[0m\u001b[1;33m\u001b[0m\u001b[0m\n\u001b[1;32m----> 4\u001b[1;33m \u001b[0max\u001b[0m\u001b[1;33m.\u001b[0m\u001b[0mset_xticks\u001b[0m\u001b[1;33m(\u001b[0m\u001b[0mx\u001b[0m\u001b[1;33m)\u001b[0m\u001b[1;33m\u001b[0m\u001b[0m\n\u001b[0m\u001b[0;32m      5\u001b[0m \u001b[0max\u001b[0m\u001b[1;33m.\u001b[0m\u001b[0mlegend\u001b[0m\u001b[1;33m(\u001b[0m\u001b[1;33m[\u001b[0m\u001b[1;34m'Earnings'\u001b[0m\u001b[1;33m,\u001b[0m\u001b[1;34m'Inflation'\u001b[0m\u001b[1;33m]\u001b[0m\u001b[1;33m)\u001b[0m\u001b[1;33m\u001b[0m\u001b[0m\n\u001b[0;32m      6\u001b[0m \u001b[1;33m\u001b[0m\u001b[0m\n",
      "\u001b[1;32m~\\AppData\\Local\\Continuum\\Anaconda3\\lib\\site-packages\\matplotlib\\axes\\_base.py\u001b[0m in \u001b[0;36mset_xticks\u001b[1;34m(self, ticks, minor)\u001b[0m\n\u001b[0;32m   2976\u001b[0m         \u001b[0mACCEPTS\u001b[0m\u001b[1;33m:\u001b[0m \u001b[0msequence\u001b[0m \u001b[0mof\u001b[0m \u001b[0mfloats\u001b[0m\u001b[1;33m\u001b[0m\u001b[0m\n\u001b[0;32m   2977\u001b[0m         \"\"\"\n\u001b[1;32m-> 2978\u001b[1;33m         \u001b[0mret\u001b[0m \u001b[1;33m=\u001b[0m \u001b[0mself\u001b[0m\u001b[1;33m.\u001b[0m\u001b[0mxaxis\u001b[0m\u001b[1;33m.\u001b[0m\u001b[0mset_ticks\u001b[0m\u001b[1;33m(\u001b[0m\u001b[0mticks\u001b[0m\u001b[1;33m,\u001b[0m \u001b[0mminor\u001b[0m\u001b[1;33m=\u001b[0m\u001b[0mminor\u001b[0m\u001b[1;33m)\u001b[0m\u001b[1;33m\u001b[0m\u001b[0m\n\u001b[0m\u001b[0;32m   2979\u001b[0m         \u001b[0mself\u001b[0m\u001b[1;33m.\u001b[0m\u001b[0mstale\u001b[0m \u001b[1;33m=\u001b[0m \u001b[1;32mTrue\u001b[0m\u001b[1;33m\u001b[0m\u001b[0m\n\u001b[0;32m   2980\u001b[0m         \u001b[1;32mreturn\u001b[0m \u001b[0mret\u001b[0m\u001b[1;33m\u001b[0m\u001b[0m\n",
      "\u001b[1;32m~\\AppData\\Local\\Continuum\\Anaconda3\\lib\\site-packages\\matplotlib\\axis.py\u001b[0m in \u001b[0;36mset_ticks\u001b[1;34m(self, ticks, minor)\u001b[0m\n\u001b[0;32m   1626\u001b[0m             \u001b[0mxleft\u001b[0m\u001b[1;33m,\u001b[0m \u001b[0mxright\u001b[0m \u001b[1;33m=\u001b[0m \u001b[0mself\u001b[0m\u001b[1;33m.\u001b[0m\u001b[0mget_view_interval\u001b[0m\u001b[1;33m(\u001b[0m\u001b[1;33m)\u001b[0m\u001b[1;33m\u001b[0m\u001b[0m\n\u001b[0;32m   1627\u001b[0m             \u001b[1;32mif\u001b[0m \u001b[0mxright\u001b[0m \u001b[1;33m>\u001b[0m \u001b[0mxleft\u001b[0m\u001b[1;33m:\u001b[0m\u001b[1;33m\u001b[0m\u001b[0m\n\u001b[1;32m-> 1628\u001b[1;33m                 \u001b[0mself\u001b[0m\u001b[1;33m.\u001b[0m\u001b[0mset_view_interval\u001b[0m\u001b[1;33m(\u001b[0m\u001b[0mmin\u001b[0m\u001b[1;33m(\u001b[0m\u001b[0mticks\u001b[0m\u001b[1;33m)\u001b[0m\u001b[1;33m,\u001b[0m \u001b[0mmax\u001b[0m\u001b[1;33m(\u001b[0m\u001b[0mticks\u001b[0m\u001b[1;33m)\u001b[0m\u001b[1;33m)\u001b[0m\u001b[1;33m\u001b[0m\u001b[0m\n\u001b[0m\u001b[0;32m   1629\u001b[0m             \u001b[1;32melse\u001b[0m\u001b[1;33m:\u001b[0m\u001b[1;33m\u001b[0m\u001b[0m\n\u001b[0;32m   1630\u001b[0m                 \u001b[0mself\u001b[0m\u001b[1;33m.\u001b[0m\u001b[0mset_view_interval\u001b[0m\u001b[1;33m(\u001b[0m\u001b[0mmax\u001b[0m\u001b[1;33m(\u001b[0m\u001b[0mticks\u001b[0m\u001b[1;33m)\u001b[0m\u001b[1;33m,\u001b[0m \u001b[0mmin\u001b[0m\u001b[1;33m(\u001b[0m\u001b[0mticks\u001b[0m\u001b[1;33m)\u001b[0m\u001b[1;33m)\u001b[0m\u001b[1;33m\u001b[0m\u001b[0m\n",
      "\u001b[1;32m~\\AppData\\Local\\Continuum\\Anaconda3\\lib\\site-packages\\matplotlib\\axis.py\u001b[0m in \u001b[0;36mset_view_interval\u001b[1;34m(self, vmin, vmax, ignore)\u001b[0m\n\u001b[0;32m   1975\u001b[0m             \u001b[0mVmin\u001b[0m\u001b[1;33m,\u001b[0m \u001b[0mVmax\u001b[0m \u001b[1;33m=\u001b[0m \u001b[0mself\u001b[0m\u001b[1;33m.\u001b[0m\u001b[0mget_view_interval\u001b[0m\u001b[1;33m(\u001b[0m\u001b[1;33m)\u001b[0m\u001b[1;33m\u001b[0m\u001b[0m\n\u001b[0;32m   1976\u001b[0m             \u001b[1;32mif\u001b[0m \u001b[0mVmin\u001b[0m \u001b[1;33m<\u001b[0m \u001b[0mVmax\u001b[0m\u001b[1;33m:\u001b[0m\u001b[1;33m\u001b[0m\u001b[0m\n\u001b[1;32m-> 1977\u001b[1;33m                 self.axes.viewLim.intervalx = (min(vmin, vmax, Vmin),\n\u001b[0m\u001b[0;32m   1978\u001b[0m                                                max(vmin, vmax, Vmax))\n\u001b[0;32m   1979\u001b[0m             \u001b[1;32melse\u001b[0m\u001b[1;33m:\u001b[0m\u001b[1;33m\u001b[0m\u001b[0m\n",
      "\u001b[1;32mpandas/_libs/tslib.pyx\u001b[0m in \u001b[0;36mpandas._libs.tslib._Timestamp.__richcmp__ (pandas\\_libs\\tslib.c:20281)\u001b[1;34m()\u001b[0m\n",
      "\u001b[1;31mTypeError\u001b[0m: Cannot compare type 'Timestamp' with type 'float'"
     ]
    }
   ],
   "source": [
    "fig,ax = plt.subplots(figsize = (18,8))\n",
    "\n",
    "ax.plot(x,y)\n",
    "ax.set_xticks(x)\n",
    "ax.legend(['Earnings','Inflation'])\n",
    "\n",
    "plt.show()"
   ]
  },
  {
   "cell_type": "code",
   "execution_count": 84,
   "metadata": {},
   "outputs": [
    {
     "data": {
      "text/plain": [
       "'awright0191@gmail.com'"
      ]
     },
     "execution_count": 84,
     "metadata": {},
     "output_type": "execute_result"
    }
   ],
   "source": [
    "google_username"
   ]
  },
  {
   "cell_type": "code",
   "execution_count": null,
   "metadata": {
    "collapsed": true
   },
   "outputs": [],
   "source": []
  }
 ],
 "metadata": {
  "kernelspec": {
   "display_name": "Python 3",
   "language": "python",
   "name": "python3"
  },
  "language_info": {
   "codemirror_mode": {
    "name": "ipython",
    "version": 3
   },
   "file_extension": ".py",
   "mimetype": "text/x-python",
   "name": "python",
   "nbconvert_exporter": "python",
   "pygments_lexer": "ipython3",
   "version": "3.6.2"
  }
 },
 "nbformat": 4,
 "nbformat_minor": 2
}
